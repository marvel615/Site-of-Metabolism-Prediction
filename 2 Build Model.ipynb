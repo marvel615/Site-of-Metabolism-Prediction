{
 "cells": [
  {
   "cell_type": "code",
   "execution_count": 1,
   "id": "02e29396",
   "metadata": {},
   "outputs": [],
   "source": [
    "import numpy as np\n",
    "from sklearn.preprocessing import StandardScaler"
   ]
  },
  {
   "cell_type": "code",
   "execution_count": 2,
   "id": "bb82c350",
   "metadata": {},
   "outputs": [],
   "source": [
    "descriptors = np.load('descriptors.npy')\n",
    "targets = np.load('targets.npy')"
   ]
  },
  {
   "cell_type": "code",
   "execution_count": 3,
   "id": "4f30ca67",
   "metadata": {},
   "outputs": [
    {
     "data": {
      "text/plain": [
       "(678, 89, 485)"
      ]
     },
     "execution_count": 3,
     "metadata": {},
     "output_type": "execute_result"
    }
   ],
   "source": [
    "descriptors.shape"
   ]
  },
  {
   "cell_type": "code",
   "execution_count": 4,
   "id": "1d7c77f9",
   "metadata": {},
   "outputs": [
    {
     "data": {
      "text/plain": [
       "(678, 89)"
      ]
     },
     "execution_count": 4,
     "metadata": {},
     "output_type": "execute_result"
    }
   ],
   "source": [
    "targets.shape"
   ]
  },
  {
   "cell_type": "code",
   "execution_count": 5,
   "id": "98307fa5",
   "metadata": {},
   "outputs": [],
   "source": [
    "i, j = np.where(targets==1)"
   ]
  },
  {
   "cell_type": "code",
   "execution_count": 6,
   "id": "65533158",
   "metadata": {},
   "outputs": [],
   "source": [
    "descriptors_undersampled = descriptors[i, j, :]"
   ]
  },
  {
   "cell_type": "code",
   "execution_count": 7,
   "id": "69fc03d0",
   "metadata": {},
   "outputs": [
    {
     "data": {
      "text/plain": [
       "(803, 485)"
      ]
     },
     "execution_count": 7,
     "metadata": {},
     "output_type": "execute_result"
    }
   ],
   "source": [
    "descriptors_undersampled.shape"
   ]
  },
  {
   "cell_type": "code",
   "execution_count": 8,
   "id": "d04435c5",
   "metadata": {},
   "outputs": [],
   "source": [
    "targets_undersampled = targets[np.where(targets==1)]"
   ]
  },
  {
   "cell_type": "code",
   "execution_count": 9,
   "id": "24d94acf",
   "metadata": {},
   "outputs": [
    {
     "data": {
      "text/plain": [
       "(803,)"
      ]
     },
     "execution_count": 9,
     "metadata": {},
     "output_type": "execute_result"
    }
   ],
   "source": [
    "targets_undersampled.shape"
   ]
  },
  {
   "cell_type": "code",
   "execution_count": 10,
   "id": "828fda35",
   "metadata": {},
   "outputs": [],
   "source": [
    "descriptors_undersampled_with_targets = np.zeros((descriptors_undersampled.shape[0],descriptors_undersampled.shape[1]+1))\n",
    "descriptors_undersampled_with_targets[:,:-1] = descriptors_undersampled \n",
    "descriptors_undersampled_with_targets[:,-1] = targets_undersampled"
   ]
  },
  {
   "cell_type": "code",
   "execution_count": 11,
   "id": "31914773",
   "metadata": {},
   "outputs": [
    {
     "data": {
      "text/plain": [
       "(803, 486)"
      ]
     },
     "execution_count": 11,
     "metadata": {},
     "output_type": "execute_result"
    }
   ],
   "source": [
    "descriptors_undersampled_with_targets.shape"
   ]
  },
  {
   "cell_type": "code",
   "execution_count": 12,
   "id": "c0a35e8d",
   "metadata": {},
   "outputs": [],
   "source": [
    "targets_undersampled = targets[np.where(targets==0)]\n",
    "targets_undersampled = targets_undersampled[:803]"
   ]
  },
  {
   "cell_type": "code",
   "execution_count": 13,
   "id": "dc7b5c98",
   "metadata": {},
   "outputs": [],
   "source": [
    "i, j = np.where(targets==0)\n",
    "descriptors_undersampled = descriptors[i, j, :]\n",
    "descriptors_undersampled = descriptors_undersampled[:803,]"
   ]
  },
  {
   "cell_type": "code",
   "execution_count": 14,
   "id": "006d27af",
   "metadata": {},
   "outputs": [
    {
     "data": {
      "text/plain": [
       "(803, 485)"
      ]
     },
     "execution_count": 14,
     "metadata": {},
     "output_type": "execute_result"
    }
   ],
   "source": [
    "descriptors_undersampled.shape"
   ]
  },
  {
   "cell_type": "code",
   "execution_count": 15,
   "id": "6208460b",
   "metadata": {},
   "outputs": [],
   "source": [
    "descriptors_undersampled_nulls = np.zeros((descriptors_undersampled.shape[0],descriptors_undersampled.shape[1]+1))\n",
    "descriptors_undersampled_nulls[:,:-1] = descriptors_undersampled \n",
    "descriptors_undersampled_nulls[:,-1] = targets_undersampled"
   ]
  },
  {
   "cell_type": "code",
   "execution_count": 16,
   "id": "e674dfba",
   "metadata": {},
   "outputs": [
    {
     "data": {
      "text/plain": [
       "((803, 486), (803, 486))"
      ]
     },
     "execution_count": 16,
     "metadata": {},
     "output_type": "execute_result"
    }
   ],
   "source": [
    "descriptors_undersampled_nulls.shape, descriptors_undersampled_with_targets.shape"
   ]
  },
  {
   "cell_type": "code",
   "execution_count": 17,
   "id": "1798b19f",
   "metadata": {},
   "outputs": [],
   "source": [
    "descriptors_undersampled_with_targets = np.vstack((descriptors_undersampled_with_targets, descriptors_undersampled_nulls))"
   ]
  },
  {
   "cell_type": "code",
   "execution_count": 18,
   "id": "10d203d1",
   "metadata": {},
   "outputs": [
    {
     "data": {
      "text/plain": [
       "(1606, 485)"
      ]
     },
     "execution_count": 18,
     "metadata": {},
     "output_type": "execute_result"
    }
   ],
   "source": [
    "descriptors_undersampled_with_targets[:,:-1].shape"
   ]
  },
  {
   "cell_type": "code",
   "execution_count": 19,
   "id": "7b802c7a",
   "metadata": {},
   "outputs": [],
   "source": [
    "from numpy.random import shuffle"
   ]
  },
  {
   "cell_type": "code",
   "execution_count": 20,
   "id": "5ca08ac8",
   "metadata": {},
   "outputs": [],
   "source": [
    "shuffle(descriptors_undersampled_with_targets)"
   ]
  },
  {
   "cell_type": "code",
   "execution_count": 21,
   "id": "b07a376e",
   "metadata": {},
   "outputs": [],
   "source": [
    "import sklearn\n",
    "from sklearn.model_selection import train_test_split"
   ]
  },
  {
   "cell_type": "code",
   "execution_count": 22,
   "id": "c0eae942",
   "metadata": {},
   "outputs": [],
   "source": [
    "x_train, x_test, y_train, y_test = train_test_split(descriptors_undersampled_with_targets[:,:-1], \n",
    "                                                    descriptors_undersampled_with_targets[:,-1], \n",
    "                                                    test_size=0.20, random_state=42)"
   ]
  },
  {
   "cell_type": "code",
   "execution_count": 23,
   "id": "f7f8d48f",
   "metadata": {},
   "outputs": [
    {
     "name": "stdout",
     "output_type": "stream",
     "text": [
      "x train:  (1284, 485)\n",
      "x test:  (322, 485)\n",
      "y train:  (1284,)\n",
      "y test:  (322,)\n"
     ]
    }
   ],
   "source": [
    "print(\"x train: \",x_train.shape)\n",
    "print(\"x test: \",x_test.shape)\n",
    "print(\"y train: \",y_train.shape)\n",
    "print(\"y test: \",y_test.shape)"
   ]
  },
  {
   "cell_type": "code",
   "execution_count": 24,
   "id": "6d6ed737",
   "metadata": {},
   "outputs": [],
   "source": [
    "y_train = y_train.reshape(-1, 1)\n",
    "y_test = y_test.reshape(-1, 1)"
   ]
  },
  {
   "cell_type": "code",
   "execution_count": 25,
   "id": "ed39b13d",
   "metadata": {},
   "outputs": [
    {
     "name": "stdout",
     "output_type": "stream",
     "text": [
      "x train:  (1284, 485)\n",
      "x test:  (322, 485)\n",
      "y train:  (1284, 1)\n",
      "y test:  (322, 1)\n"
     ]
    }
   ],
   "source": [
    "print(\"x train: \",x_train.shape)\n",
    "print(\"x test: \",x_test.shape)\n",
    "print(\"y train: \",y_train.shape)\n",
    "print(\"y test: \",y_test.shape)"
   ]
  },
  {
   "cell_type": "code",
   "execution_count": 26,
   "id": "0c9fc487",
   "metadata": {},
   "outputs": [],
   "source": [
    "import warnings\n",
    "warnings.filterwarnings(\"ignore\")"
   ]
  },
  {
   "cell_type": "code",
   "execution_count": 27,
   "id": "3558a1ec",
   "metadata": {},
   "outputs": [],
   "source": [
    "from sklearn.metrics import f1_score, make_scorer, top_k_accuracy_score, precision_recall_fscore_support\n",
    "from sklearn.metrics import matthews_corrcoef as mcc\n",
    "from sklearn.experimental import enable_halving_search_cv\n",
    "from sklearn.feature_selection import f_classif\n",
    "from sklearn.model_selection import cross_validate as cv\n",
    "from sklearn.pipeline import Pipeline\n",
    "from tqdm import tqdm"
   ]
  },
  {
   "cell_type": "code",
   "execution_count": null,
   "id": "04928e77",
   "metadata": {},
   "outputs": [],
   "source": []
  },
  {
   "cell_type": "markdown",
   "id": "413fbd24",
   "metadata": {},
   "source": [
    "# Models from Article"
   ]
  },
  {
   "cell_type": "markdown",
   "id": "a814b665",
   "metadata": {},
   "source": [
    "## RandomForestClassifier"
   ]
  },
  {
   "cell_type": "code",
   "execution_count": 28,
   "id": "d011b3bb",
   "metadata": {},
   "outputs": [],
   "source": [
    "from sklearn.ensemble import RandomForestClassifier"
   ]
  },
  {
   "cell_type": "code",
   "execution_count": 29,
   "id": "ad2d3dd7",
   "metadata": {},
   "outputs": [],
   "source": [
    "rfc = RandomForestClassifier(n_estimators=500, n_jobs=-1)\n",
    "mcc_scorer = make_scorer(mcc)"
   ]
  },
  {
   "cell_type": "code",
   "execution_count": 30,
   "id": "844f56f9",
   "metadata": {},
   "outputs": [
    {
     "data": {
      "text/plain": [
       "RandomForestClassifier(n_estimators=500, n_jobs=-1)"
      ]
     },
     "execution_count": 30,
     "metadata": {},
     "output_type": "execute_result"
    }
   ],
   "source": [
    "rfc.fit(x_train, y_train)"
   ]
  },
  {
   "cell_type": "code",
   "execution_count": 31,
   "id": "a25f8683",
   "metadata": {},
   "outputs": [],
   "source": [
    "y_preds = rfc.predict_proba(x_test)"
   ]
  },
  {
   "cell_type": "code",
   "execution_count": 32,
   "id": "96222e3e",
   "metadata": {},
   "outputs": [],
   "source": [
    "y_predict = []\n",
    "for el in range(len(y_preds)):\n",
    "    y_predict.append(np.argmax(y_preds[el]))"
   ]
  },
  {
   "cell_type": "code",
   "execution_count": 33,
   "id": "4d50826f",
   "metadata": {},
   "outputs": [],
   "source": [
    "y_real = y_test.reshape(-1, )"
   ]
  },
  {
   "cell_type": "code",
   "execution_count": 34,
   "id": "512bc937",
   "metadata": {},
   "outputs": [
    {
     "data": {
      "text/plain": [
       "0.7825292916895139"
      ]
     },
     "execution_count": 34,
     "metadata": {},
     "output_type": "execute_result"
    }
   ],
   "source": [
    "mcc(y_predict, y_real)"
   ]
  },
  {
   "cell_type": "code",
   "execution_count": 35,
   "id": "c16ce1cf",
   "metadata": {},
   "outputs": [
    {
     "data": {
      "text/plain": [
       "(array([0.9047619, 0.88     ]),\n",
       " array([0.86363636, 0.91666667]),\n",
       " array([0.88372093, 0.89795918]),\n",
       " array([154, 168]))"
      ]
     },
     "execution_count": 35,
     "metadata": {},
     "output_type": "execute_result"
    }
   ],
   "source": [
    "precision_recall_fscore_support(y_predict, y_real)"
   ]
  },
  {
   "cell_type": "code",
   "execution_count": 36,
   "id": "20b3f24c",
   "metadata": {},
   "outputs": [
    {
     "data": {
      "text/plain": [
       "{'fit_time': array([2.45053315, 1.02388716, 0.97552323, 0.97286415, 0.99793029,\n",
       "        0.96008706, 0.97013354, 0.96864843, 1.03185272, 0.96079135]),\n",
       " 'score_time': array([0.30357623, 0.28105879, 0.31673837, 0.29422879, 0.31608415,\n",
       "        0.28897262, 0.32701302, 0.31202483, 0.30313444, 0.28609633]),\n",
       " 'test_score': array([0.73647514, 0.62770563, 0.67744376, 0.80357601, 0.62813525,\n",
       "        0.61023578, 0.78251624, 0.71889548, 0.71916972, 0.65631906])}"
      ]
     },
     "execution_count": 36,
     "metadata": {},
     "output_type": "execute_result"
    }
   ],
   "source": [
    "mcc_scorer = make_scorer(mcc)\n",
    "cv(rfc, x_train, y_train, cv=10, scoring=mcc_scorer)"
   ]
  },
  {
   "cell_type": "code",
   "execution_count": null,
   "id": "60364c87",
   "metadata": {},
   "outputs": [],
   "source": []
  },
  {
   "cell_type": "markdown",
   "id": "90472d1b",
   "metadata": {},
   "source": [
    "## ExtraTreesClassifier"
   ]
  },
  {
   "cell_type": "code",
   "execution_count": 94,
   "id": "04d670aa",
   "metadata": {},
   "outputs": [],
   "source": [
    "etc = sklearn.ensemble.ExtraTreesClassifier()"
   ]
  },
  {
   "cell_type": "code",
   "execution_count": 95,
   "id": "231680fc",
   "metadata": {},
   "outputs": [
    {
     "data": {
      "text/plain": [
       "ExtraTreesClassifier()"
      ]
     },
     "execution_count": 95,
     "metadata": {},
     "output_type": "execute_result"
    }
   ],
   "source": [
    "etc.fit(x_train, y_train)"
   ]
  },
  {
   "cell_type": "code",
   "execution_count": 96,
   "id": "8d7fa45a",
   "metadata": {},
   "outputs": [],
   "source": [
    "y_preds = etc.predict_proba(x_test)"
   ]
  },
  {
   "cell_type": "code",
   "execution_count": 98,
   "id": "b179967f",
   "metadata": {},
   "outputs": [],
   "source": [
    "y_predict = []\n",
    "for el in range(len(y_preds)):\n",
    "    y_predict.append(np.argmax(y_preds[el]))"
   ]
  },
  {
   "cell_type": "code",
   "execution_count": 99,
   "id": "0f47cb27",
   "metadata": {},
   "outputs": [],
   "source": [
    "y_real = y_test.reshape(-1, )"
   ]
  },
  {
   "cell_type": "code",
   "execution_count": 100,
   "id": "9e491b3f",
   "metadata": {},
   "outputs": [
    {
     "data": {
      "text/plain": [
       "0.7950106881589029"
      ]
     },
     "execution_count": 100,
     "metadata": {},
     "output_type": "execute_result"
    }
   ],
   "source": [
    "mcc(y_predict, y_real)"
   ]
  },
  {
   "cell_type": "code",
   "execution_count": 101,
   "id": "b37af4e0",
   "metadata": {},
   "outputs": [
    {
     "data": {
      "text/plain": [
       "(array([0.91156463, 0.88571429]),\n",
       " array([0.87012987, 0.92261905]),\n",
       " array([0.89036545, 0.90379009]),\n",
       " array([154, 168]))"
      ]
     },
     "execution_count": 101,
     "metadata": {},
     "output_type": "execute_result"
    }
   ],
   "source": [
    "precision_recall_fscore_support(y_predict, y_real)"
   ]
  },
  {
   "cell_type": "code",
   "execution_count": null,
   "id": "ffc91dc6",
   "metadata": {},
   "outputs": [],
   "source": []
  },
  {
   "cell_type": "markdown",
   "id": "dc6b47fd",
   "metadata": {},
   "source": [
    "## SVM"
   ]
  },
  {
   "cell_type": "code",
   "execution_count": 37,
   "id": "a21f32fd",
   "metadata": {},
   "outputs": [],
   "source": [
    "x_train_svm = x_train - np.mean(x_train)\n",
    "descriptors_svm = x_train_svm / np.std(x_train_svm)"
   ]
  },
  {
   "cell_type": "code",
   "execution_count": 38,
   "id": "5afcbe15",
   "metadata": {},
   "outputs": [],
   "source": [
    "from sklearn.svm import SVC"
   ]
  },
  {
   "cell_type": "code",
   "execution_count": 39,
   "id": "2b92b005",
   "metadata": {},
   "outputs": [],
   "source": [
    "svm = SVC(C=50, gamma=1)"
   ]
  },
  {
   "cell_type": "code",
   "execution_count": 40,
   "id": "e47cc8f6",
   "metadata": {},
   "outputs": [
    {
     "data": {
      "text/plain": [
       "{'fit_time': array([0.36381435, 0.30833673, 0.3300097 , 0.31035137, 0.29814887,\n",
       "        0.30661821, 0.29594612, 0.32179713, 0.31151938, 0.29904556]),\n",
       " 'score_time': array([0.0518229 , 0.0535295 , 0.05416584, 0.05229974, 0.05262065,\n",
       "        0.05188346, 0.0467124 , 0.05250359, 0.04707026, 0.04869604]),\n",
       " 'test_score': array([0.72256986, 0.61327561, 0.70687148, 0.7756157 , 0.62813525,\n",
       "        0.58051117, 0.73446466, 0.68791209, 0.67640108, 0.59413919])}"
      ]
     },
     "execution_count": 40,
     "metadata": {},
     "output_type": "execute_result"
    }
   ],
   "source": [
    "mcc_scorer = make_scorer(mcc)\n",
    "cv(svm, descriptors_svm, y_train, cv=10, scoring=mcc_scorer)"
   ]
  },
  {
   "cell_type": "code",
   "execution_count": 41,
   "id": "611e74cf",
   "metadata": {},
   "outputs": [
    {
     "data": {
      "text/plain": [
       "SVC(C=50, gamma=1)"
      ]
     },
     "execution_count": 41,
     "metadata": {},
     "output_type": "execute_result"
    }
   ],
   "source": [
    "svm.fit(descriptors_svm, y_train)"
   ]
  },
  {
   "cell_type": "code",
   "execution_count": 42,
   "id": "b942876c",
   "metadata": {},
   "outputs": [],
   "source": [
    "x_test_svm = x_test - np.mean(x_test)\n",
    "descriptors_svm_test = x_test_svm / np.std(x_test_svm)"
   ]
  },
  {
   "cell_type": "code",
   "execution_count": 44,
   "id": "6066d460",
   "metadata": {},
   "outputs": [],
   "source": [
    "y_preds = svm.predict(descriptors_svm_test)"
   ]
  },
  {
   "cell_type": "code",
   "execution_count": 47,
   "id": "54db1cda",
   "metadata": {},
   "outputs": [],
   "source": [
    "y_real = y_test.reshape(-1, )"
   ]
  },
  {
   "cell_type": "code",
   "execution_count": 49,
   "id": "600f02d1",
   "metadata": {},
   "outputs": [
    {
     "data": {
      "text/plain": [
       "0.7054079378805208"
      ]
     },
     "execution_count": 49,
     "metadata": {},
     "output_type": "execute_result"
    }
   ],
   "source": [
    "mcc(y_preds, y_real)"
   ]
  },
  {
   "cell_type": "code",
   "execution_count": 50,
   "id": "756b0f97",
   "metadata": {},
   "outputs": [
    {
     "data": {
      "text/plain": [
       "(array([0.81632653, 0.88571429]),\n",
       " array([0.85714286, 0.85164835]),\n",
       " array([0.83623693, 0.86834734]),\n",
       " array([140, 182]))"
      ]
     },
     "execution_count": 50,
     "metadata": {},
     "output_type": "execute_result"
    }
   ],
   "source": [
    "precision_recall_fscore_support(y_preds, y_real)"
   ]
  },
  {
   "cell_type": "code",
   "execution_count": null,
   "id": "20f1d60d",
   "metadata": {},
   "outputs": [],
   "source": []
  },
  {
   "cell_type": "markdown",
   "id": "387897a1",
   "metadata": {},
   "source": [
    "## GradientBoostingClassifier"
   ]
  },
  {
   "cell_type": "code",
   "execution_count": 55,
   "id": "9ff68f16",
   "metadata": {},
   "outputs": [],
   "source": [
    "from sklearn.ensemble import GradientBoostingClassifier\n",
    "gbt = GradientBoostingClassifier(learning_rate=0.2, subsample=0.6, max_depth=6, n_estimators=900)"
   ]
  },
  {
   "cell_type": "code",
   "execution_count": 57,
   "id": "773c0cf5",
   "metadata": {},
   "outputs": [
    {
     "data": {
      "text/plain": [
       "{'fit_time': array([6.76550865, 6.73514485, 6.50930858, 6.60883713, 6.47080064,\n",
       "        6.3400867 , 6.5082593 , 6.58210325, 6.13940215, 6.32564116]),\n",
       " 'score_time': array([0.00478745, 0.00477719, 0.00433016, 0.00470352, 0.00434732,\n",
       "        0.00512171, 0.00467086, 0.00456381, 0.00475478, 0.0045774 ]),\n",
       " 'test_score': array([0.78282828, 0.58557701, 0.70873279, 0.83044733, 0.60986423,\n",
       "        0.57798953, 0.79473925, 0.67345807, 0.71889548, 0.67784088])}"
      ]
     },
     "execution_count": 57,
     "metadata": {},
     "output_type": "execute_result"
    }
   ],
   "source": [
    "cv(gbt, x_train, y_train, cv=10, scoring=mcc_scorer)"
   ]
  },
  {
   "cell_type": "code",
   "execution_count": 58,
   "id": "51f9cf44",
   "metadata": {},
   "outputs": [
    {
     "data": {
      "text/plain": [
       "GradientBoostingClassifier(learning_rate=0.2, max_depth=6, n_estimators=900,\n",
       "                           subsample=0.6)"
      ]
     },
     "execution_count": 58,
     "metadata": {},
     "output_type": "execute_result"
    }
   ],
   "source": [
    "gbt.fit(x_train, y_train)"
   ]
  },
  {
   "cell_type": "code",
   "execution_count": 59,
   "id": "61084e37",
   "metadata": {},
   "outputs": [],
   "source": [
    "y_preds = gbt.predict_proba(x_test)"
   ]
  },
  {
   "cell_type": "code",
   "execution_count": 61,
   "id": "293c6fd9",
   "metadata": {},
   "outputs": [],
   "source": [
    "y_predict = []\n",
    "for el in range(len(y_preds)):\n",
    "    y_predict.append(np.argmax(y_preds[el]))"
   ]
  },
  {
   "cell_type": "code",
   "execution_count": 62,
   "id": "f611af89",
   "metadata": {},
   "outputs": [],
   "source": [
    "y_real = y_test.reshape(-1, )"
   ]
  },
  {
   "cell_type": "code",
   "execution_count": 63,
   "id": "c549fb20",
   "metadata": {},
   "outputs": [
    {
     "data": {
      "text/plain": [
       "0.741745275258775"
      ]
     },
     "execution_count": 63,
     "metadata": {},
     "output_type": "execute_result"
    }
   ],
   "source": [
    "mcc(y_predict, y_real)"
   ]
  },
  {
   "cell_type": "code",
   "execution_count": 64,
   "id": "c847575e",
   "metadata": {},
   "outputs": [
    {
     "data": {
      "text/plain": [
       "(array([0.93197279, 0.81142857]),\n",
       " array([0.80588235, 0.93421053]),\n",
       " array([0.86435331, 0.86850153]),\n",
       " array([170, 152]))"
      ]
     },
     "execution_count": 64,
     "metadata": {},
     "output_type": "execute_result"
    }
   ],
   "source": [
    "precision_recall_fscore_support(y_predict, y_real)"
   ]
  },
  {
   "cell_type": "code",
   "execution_count": null,
   "id": "3df9f42b",
   "metadata": {},
   "outputs": [],
   "source": []
  },
  {
   "cell_type": "markdown",
   "id": "e547c855",
   "metadata": {},
   "source": [
    "# New Models"
   ]
  },
  {
   "cell_type": "markdown",
   "id": "412e1fc6",
   "metadata": {},
   "source": [
    "## LightGBM Classifier"
   ]
  },
  {
   "cell_type": "code",
   "execution_count": 74,
   "id": "d17c623b",
   "metadata": {},
   "outputs": [],
   "source": [
    "import lightgbm as lgb"
   ]
  },
  {
   "cell_type": "code",
   "execution_count": 75,
   "id": "659e6464",
   "metadata": {},
   "outputs": [],
   "source": [
    "lgb_clf = lgb.LGBMClassifier()"
   ]
  },
  {
   "cell_type": "code",
   "execution_count": 76,
   "id": "b9def937",
   "metadata": {},
   "outputs": [
    {
     "data": {
      "text/plain": [
       "LGBMClassifier()"
      ]
     },
     "execution_count": 76,
     "metadata": {},
     "output_type": "execute_result"
    }
   ],
   "source": [
    "lgb_clf.fit(x_train, y_train)"
   ]
  },
  {
   "cell_type": "code",
   "execution_count": 77,
   "id": "9425836a",
   "metadata": {},
   "outputs": [],
   "source": [
    "y_preds = lgb_clf.predict_proba(x_test)"
   ]
  },
  {
   "cell_type": "code",
   "execution_count": 79,
   "id": "14afb728",
   "metadata": {},
   "outputs": [],
   "source": [
    "y_predict = []\n",
    "for el in range(len(y_preds)):\n",
    "    y_predict.append(np.argmax(y_preds[el]))"
   ]
  },
  {
   "cell_type": "code",
   "execution_count": 81,
   "id": "fc39bbac",
   "metadata": {},
   "outputs": [],
   "source": [
    "y_real = y_test.reshape(-1, )"
   ]
  },
  {
   "cell_type": "code",
   "execution_count": 82,
   "id": "2b1a6b65",
   "metadata": {},
   "outputs": [
    {
     "data": {
      "text/plain": [
       "0.7748758134087765"
      ]
     },
     "execution_count": 82,
     "metadata": {},
     "output_type": "execute_result"
    }
   ],
   "source": [
    "mcc(y_predict, y_real)"
   ]
  },
  {
   "cell_type": "code",
   "execution_count": 83,
   "id": "2aa96b8d",
   "metadata": {},
   "outputs": [
    {
     "data": {
      "text/plain": [
       "(array([0.93197279, 0.84571429]),\n",
       " array([0.83536585, 0.93670886]),\n",
       " array([0.88102894, 0.88888889]),\n",
       " array([164, 158]))"
      ]
     },
     "execution_count": 83,
     "metadata": {},
     "output_type": "execute_result"
    }
   ],
   "source": [
    "precision_recall_fscore_support(y_predict, y_real)"
   ]
  },
  {
   "cell_type": "code",
   "execution_count": null,
   "id": "5c582e5b",
   "metadata": {},
   "outputs": [],
   "source": []
  },
  {
   "cell_type": "markdown",
   "id": "91ba9a01",
   "metadata": {},
   "source": [
    "## AdaBoostClassifier"
   ]
  },
  {
   "cell_type": "code",
   "execution_count": 84,
   "id": "4503bc51",
   "metadata": {},
   "outputs": [],
   "source": [
    "from sklearn.ensemble import AdaBoostClassifier"
   ]
  },
  {
   "cell_type": "code",
   "execution_count": 92,
   "id": "1c5956fc",
   "metadata": {},
   "outputs": [],
   "source": [
    "n_estimators_list = [150, 200, 250, 400, 500]\n",
    "learning_rate_list = [0.2, 1.0, 2.0, 5.0, 10.0]"
   ]
  },
  {
   "cell_type": "code",
   "execution_count": 93,
   "id": "9e3fdecb",
   "metadata": {},
   "outputs": [
    {
     "name": "stdout",
     "output_type": "stream",
     "text": [
      "n_estimator =  150\n",
      "learning_rate =  0.2\n",
      "MCC =  0.7362623883689489\n",
      "=============================\n",
      "n_estimator =  150\n",
      "learning_rate =  1.0\n",
      "MCC =  0.716767030264702\n",
      "=============================\n",
      "n_estimator =  150\n",
      "learning_rate =  2.0\n",
      "MCC =  0.6991040055092435\n",
      "=============================\n",
      "n_estimator =  150\n",
      "learning_rate =  5.0\n",
      "MCC =  -0.4910242904869541\n",
      "=============================\n",
      "n_estimator =  150\n",
      "learning_rate =  10.0\n",
      "MCC =  -0.48795003647426655\n",
      "=============================\n",
      "n_estimator =  200\n",
      "learning_rate =  0.2\n",
      "MCC =  0.673845889867267\n",
      "=============================\n",
      "n_estimator =  200\n",
      "learning_rate =  1.0\n",
      "MCC =  0.697261016728272\n",
      "=============================\n",
      "n_estimator =  200\n",
      "learning_rate =  2.0\n",
      "MCC =  0.6929543849923757\n",
      "=============================\n",
      "n_estimator =  200\n",
      "learning_rate =  5.0\n",
      "MCC =  -0.4910242904869541\n",
      "=============================\n",
      "n_estimator =  200\n",
      "learning_rate =  10.0\n",
      "MCC =  -0.48795003647426655\n",
      "=============================\n",
      "n_estimator =  250\n",
      "learning_rate =  0.2\n",
      "MCC =  0.673845889867267\n",
      "=============================\n",
      "n_estimator =  250\n",
      "learning_rate =  1.0\n",
      "MCC =  0.7138219363193263\n",
      "=============================\n",
      "n_estimator =  250\n",
      "learning_rate =  2.0\n",
      "MCC =  0.6867877808060369\n",
      "=============================\n",
      "n_estimator =  250\n",
      "learning_rate =  5.0\n",
      "MCC =  -0.4910242904869541\n",
      "=============================\n",
      "n_estimator =  250\n",
      "learning_rate =  10.0\n",
      "MCC =  -0.48795003647426655\n",
      "=============================\n",
      "n_estimator =  400\n",
      "learning_rate =  0.2\n",
      "MCC =  0.697261016728272\n",
      "=============================\n",
      "n_estimator =  400\n",
      "learning_rate =  1.0\n",
      "MCC =  0.7152382846371562\n",
      "=============================\n",
      "n_estimator =  400\n",
      "learning_rate =  2.0\n",
      "MCC =  0.6999731733774581\n",
      "=============================\n",
      "n_estimator =  400\n",
      "learning_rate =  5.0\n",
      "MCC =  -0.4910242904869541\n",
      "=============================\n",
      "n_estimator =  400\n",
      "learning_rate =  10.0\n",
      "MCC =  -0.48795003647426655\n",
      "=============================\n",
      "n_estimator =  500\n",
      "learning_rate =  0.2\n",
      "MCC =  0.6988333231070045\n",
      "=============================\n",
      "n_estimator =  500\n",
      "learning_rate =  1.0\n",
      "MCC =  0.716767030264702\n",
      "=============================\n",
      "n_estimator =  500\n",
      "learning_rate =  2.0\n",
      "MCC =  0.6892883346935454\n",
      "=============================\n",
      "n_estimator =  500\n",
      "learning_rate =  5.0\n",
      "MCC =  -0.4910242904869541\n",
      "=============================\n",
      "n_estimator =  500\n",
      "learning_rate =  10.0\n",
      "MCC =  -0.48795003647426655\n",
      "=============================\n"
     ]
    }
   ],
   "source": [
    "y_real = y_test.reshape(-1, )\n",
    "\n",
    "for n_est in n_estimators_list:\n",
    "    for lr in learning_rate_list:\n",
    "        ab = AdaBoostClassifier(random_state=42, n_estimators=n_est, learning_rate=lr)\n",
    "        print('n_estimator = ', n_est)\n",
    "        print('learning_rate = ', lr)\n",
    "        ab.fit(x_train, y_train)\n",
    "        y_pred = ab.predict(x_test)\n",
    "        print('MCC = ', mcc(y_pred, y_real))\n",
    "        print('=============================')"
   ]
  },
  {
   "cell_type": "code",
   "execution_count": null,
   "id": "c8ddaba4",
   "metadata": {},
   "outputs": [],
   "source": []
  },
  {
   "cell_type": "markdown",
   "id": "d842286d",
   "metadata": {},
   "source": [
    "## XGBoost"
   ]
  },
  {
   "cell_type": "code",
   "execution_count": 104,
   "id": "d8dadce5",
   "metadata": {},
   "outputs": [],
   "source": [
    "#!pip install xgboost\n",
    "import xgboost as xgb"
   ]
  },
  {
   "cell_type": "code",
   "execution_count": 105,
   "id": "43a30520",
   "metadata": {},
   "outputs": [],
   "source": [
    "xgb_model = xgb.XGBClassifier(objective=\"binary:logistic\", random_state=42)"
   ]
  },
  {
   "cell_type": "code",
   "execution_count": 106,
   "id": "b0942093",
   "metadata": {},
   "outputs": [
    {
     "data": {
      "text/plain": [
       "XGBClassifier(base_score=None, booster=None, callbacks=None,\n",
       "              colsample_bylevel=None, colsample_bynode=None,\n",
       "              colsample_bytree=None, early_stopping_rounds=None,\n",
       "              enable_categorical=False, eval_metric=None, feature_types=None,\n",
       "              gamma=None, gpu_id=None, grow_policy=None, importance_type=None,\n",
       "              interaction_constraints=None, learning_rate=None, max_bin=None,\n",
       "              max_cat_threshold=None, max_cat_to_onehot=None,\n",
       "              max_delta_step=None, max_depth=None, max_leaves=None,\n",
       "              min_child_weight=None, missing=nan, monotone_constraints=None,\n",
       "              n_estimators=100, n_jobs=None, num_parallel_tree=None,\n",
       "              predictor=None, random_state=42, ...)"
      ]
     },
     "execution_count": 106,
     "metadata": {},
     "output_type": "execute_result"
    }
   ],
   "source": [
    "xgb_model.fit(x_train, y_train)"
   ]
  },
  {
   "cell_type": "code",
   "execution_count": 111,
   "id": "3ad1362d",
   "metadata": {},
   "outputs": [],
   "source": [
    "y_preds = xgb_model.predict(x_test)"
   ]
  },
  {
   "cell_type": "code",
   "execution_count": 112,
   "id": "eeec0462",
   "metadata": {},
   "outputs": [],
   "source": [
    "y_real = y_test.reshape(-1, )"
   ]
  },
  {
   "cell_type": "code",
   "execution_count": 113,
   "id": "b2811822",
   "metadata": {},
   "outputs": [
    {
     "data": {
      "text/plain": [
       "0.7748758134087765"
      ]
     },
     "execution_count": 113,
     "metadata": {},
     "output_type": "execute_result"
    }
   ],
   "source": [
    "mcc(y_preds, y_real)"
   ]
  },
  {
   "cell_type": "code",
   "execution_count": null,
   "id": "7dd93c30",
   "metadata": {},
   "outputs": [],
   "source": []
  }
 ],
 "metadata": {
  "kernelspec": {
   "display_name": "Python 3 (ipykernel)",
   "language": "python",
   "name": "python3"
  },
  "language_info": {
   "codemirror_mode": {
    "name": "ipython",
    "version": 3
   },
   "file_extension": ".py",
   "mimetype": "text/x-python",
   "name": "python",
   "nbconvert_exporter": "python",
   "pygments_lexer": "ipython3",
   "version": "3.8.10"
  }
 },
 "nbformat": 4,
 "nbformat_minor": 5
}
